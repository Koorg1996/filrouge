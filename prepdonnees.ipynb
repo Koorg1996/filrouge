{
 "cells": [
  {
   "cell_type": "code",
   "execution_count": 113,
   "metadata": {},
   "outputs": [],
   "source": [
    "##########\n",
    "import pandas as pd\n",
    "import numpy as np\n",
    "import matplotlib as plt\n",
    "import ast\n",
    "import datetime\n",
    "from ast import literal_eval\n",
    "import sklearn\n",
    "import json\n"
   ]
  },
  {
   "cell_type": "code",
   "execution_count": null,
   "metadata": {},
   "outputs": [],
   "source": [
    "#####metadata preparation des donnees"
   ]
  },
  {
   "cell_type": "code",
   "execution_count": 114,
   "metadata": {},
   "outputs": [
    {
     "name": "stderr",
     "output_type": "stream",
     "text": [
      "/home/fitec/.local/lib/python3.6/site-packages/IPython/core/interactiveshell.py:3072: DtypeWarning: Columns (10) have mixed types.Specify dtype option on import or set low_memory=False.\n",
      "  interactivity=interactivity, compiler=compiler, result=result)\n"
     ]
    }
   ],
   "source": [
    "metadata=pd.read_csv('movies_metadata.csv', delimiter = ',')\n",
    "\n",
    "\n",
    "#1 supprimer les valeurs missing\n",
    "\n",
    "metadata=metadata.dropna(subset=['id'])\n",
    "metadata=metadata.dropna(subset=['title'])\n",
    "\n",
    "\n",
    "#2 selectionner les film=released et transformer la variable adult en variable quali et supprimer les doublons id\n",
    "\n",
    "\n",
    "#status released\n",
    "metadata=metadata.loc[metadata['status']== 'Released']\n",
    "\n",
    "#encode adult var\n",
    "metadata1=pd.get_dummies(metadata, columns=[\"adult\"])\n",
    "\n",
    "\n",
    "\n",
    "#drop duplicates  \n",
    "\n",
    "metadata2=metadata1.drop_duplicates()\n",
    "metadata2=metadata2.drop_duplicates(subset='id', keep=\"first\")\n",
    "\n",
    "\n",
    "#selection variables\n",
    "\n",
    "\n",
    "metadata2=metadata2[['genres', \n",
    "                     'id',\n",
    "                     'original_language', \n",
    "                     'production_companies', \n",
    "                     'production_countries', \n",
    "                     'release_date',\n",
    "                     'title'  , \n",
    "                     'vote_average',\n",
    "                     'vote_count',\n",
    "                     'adult_False', \n",
    "                     'adult_True'      ]]"
   ]
  },
  {
   "cell_type": "code",
   "execution_count": 115,
   "metadata": {},
   "outputs": [
    {
     "name": "stdout",
     "output_type": "stream",
     "text": [
      "<class 'pandas.core.frame.DataFrame'>\n",
      "Int64Index: 44985 entries, 0 to 45465\n",
      "Data columns (total 11 columns):\n",
      " #   Column                Non-Null Count  Dtype  \n",
      "---  ------                --------------  -----  \n",
      " 0   genres                44985 non-null  object \n",
      " 1   id                    44985 non-null  object \n",
      " 2   original_language     44975 non-null  object \n",
      " 3   production_companies  44985 non-null  object \n",
      " 4   production_countries  44985 non-null  object \n",
      " 5   release_date          44907 non-null  object \n",
      " 6   title                 44985 non-null  object \n",
      " 7   vote_average          44985 non-null  float64\n",
      " 8   vote_count            44985 non-null  float64\n",
      " 9   adult_False           44985 non-null  uint8  \n",
      " 10  adult_True            44985 non-null  uint8  \n",
      "dtypes: float64(2), object(7), uint8(2)\n",
      "memory usage: 3.5+ MB\n"
     ]
    }
   ],
   "source": [
    "metadata2.info()"
   ]
  },
  {
   "cell_type": "code",
   "execution_count": 116,
   "metadata": {},
   "outputs": [],
   "source": [
    "#####  listes des categories des variables genres, production_companies et production_countries\n",
    "\n",
    "\n",
    "#metadata2['title'].value_counts(dropna=False)\n",
    "\n",
    "\n",
    "#fonction pr obtenir une liste des categories (max 20 elements a priori) a partir des dictionnaires\n",
    "\n",
    "\n",
    "\n",
    "def categorie (data, variable):\n",
    "\n",
    "    data['genrestest'] = data[variable].fillna('[]').apply(literal_eval).apply(lambda x: [i['name'] for i in x] if isinstance(x, list) else [])\n",
    "    liste=data['genrestest'].str[0].value_counts()[:20].index.tolist()\n",
    "    return liste\n",
    "\n",
    "\n",
    "liste_genre=categorie(metadata2, 'genres')\n",
    "liste_pcomp=categorie(metadata2, 'production_companies')\n",
    "liste_pcount=categorie(metadata2, 'production_countries')\n",
    "\n",
    "metadata2=metadata2.drop(['genrestest'], axis=1)\n",
    "\n",
    "\n",
    "\n",
    "\n",
    "\n",
    "#########################fonction pour attribuer 1 a chaque element qui existe dans la liste des categories############################\n",
    "\n",
    "\n",
    "\n",
    "\n",
    "\n",
    "def encoding_dic(data, variable, liste):\n",
    "    \n",
    "    #Colonne concernée\n",
    "    #serie_col = data[\"genres\"]\n",
    "        \n",
    "    #Liste des catégories conservées\n",
    "    #liste = ['Drama', 'Comedy', 'Thriller', 'Romance', 'Action', 'Horror', 'Crime', 'Documentary', 'null']\n",
    "    \n",
    "    serie_col = data[variable]\n",
    "    #Création de la colonne total : liste des catégories appartenant à la liste pour chaque ligne\n",
    "    def add(x, liste_col):\n",
    "        total = []\n",
    "        if type(x) == str and x[0] == \"[\":\n",
    "            a = ast.literal_eval(x)\n",
    "            if len(a) > 0:\n",
    "                for j in range(len(a)):\n",
    "                    comp = a[j][\"name\"]\n",
    "                    if comp in liste_col:\n",
    "                        total.append(comp)\n",
    "                if len(total) == 0:\n",
    "                    total.append(\"null\")\n",
    "            else:\n",
    "                total.append(\"null\")\n",
    "        return total\n",
    "    \n",
    "    total = serie_col.apply(lambda x : add(x, liste_col = liste))\n",
    "    df = serie_col.to_frame()\n",
    "    df[\"total\"] = total\n",
    "    \n",
    "    #Création des colonnes pour le OneHotEncoding\n",
    "    for genre in liste:\n",
    "        df[genre] = 0\n",
    "    \n",
    "    #Complétion des colonnes OneHotEncoding grâce à la colonne total\n",
    "    def add2(x,genre_cherche):\n",
    "        for genre in x[\"total\"]:\n",
    "            if genre == genre_cherche:\n",
    "                return 1\n",
    "        return 0\n",
    "    \n",
    "    for genre in liste:\n",
    "        df[genre] = df.apply(lambda x : add2(x, genre_cherche = genre), axis=1)\n",
    "    \n",
    "    return df\n",
    "\n",
    "\n",
    "\n",
    "##########################################################\"\"\n",
    "\n",
    "dfgenres = encoding_dic(data=metadata2, variable=\"genres\", liste=liste_genre)\n",
    "dfgenres=dfgenres.drop(['genres', 'total'], axis=1)\n",
    "dfprodcomp = encoding_dic(data=metadata2, variable=\"production_companies\", liste=liste_pcomp)\n",
    "dfprodcomp=dfprodcomp.drop(['production_companies', 'total'], axis=1)\n",
    "dfprodcount = encoding_dic(data=metadata2, variable=\"production_countries\", liste=liste_pcount)\n",
    "dfprodcount=dfprodcount.drop(['production_countries', 'total'], axis=1)\n",
    "\n",
    "\n",
    "\n",
    "#append ou concat moviedataset original avc les 3 dataframes dfgenres, dfprodcomp et  dfprodcount\n",
    "\n",
    "\n",
    "datamovienew=metadata2.append(dfgenres, ignore_index=True)\n",
    "datamovienew1=datamovienew.append(dfprodcomp,ignore_index=True )\n",
    "datamovienew2=datamovienew1.append(dfprodcount,ignore_index=True )\n",
    "\n",
    "datamovienew2=datamovienew2.drop(['genres', 'production_companies', 'production_countries'], axis=1)\n",
    "\n",
    "\n",
    "\n",
    "\n",
    "#####keywords\n",
    "\n",
    "\n",
    "\n",
    "\n",
    "keywords=pd.read_csv('keywords.csv', delimiter = ',')\n",
    "keywords=keywords.dropna(subset=['id'])\n",
    "keywords=keywords.drop_duplicates(subset='id', keep=\"first\")\n",
    "\n",
    "liste_key=categorie(keywords, 'keywords')\n",
    "\n",
    "keywords=keywords.drop(['genrestest'], axis=1)\n",
    "dfkey= encoding_dic(data=keywords, variable=\"keywords\", liste=liste_key)\n",
    "dfkey=dfkey.drop(['keywords', 'total'], axis=1)\n",
    "datakey=keywords.append(dfkey, ignore_index=True)\n",
    "datakey=datakey.drop(['keywords'], axis=1)\n",
    "\n",
    "####merge entre keywords et datamovienew2   \n",
    "\n",
    "#datakey['id']=datakey['id'].astype(str)  \n",
    "##datakey['id'] = datakey['id'].str.replace('.0', '')\n",
    "#datamovienew3=pd.merge(datamovienew2,datakey, on='id')\n",
    "\n",
    "\n",
    "\n",
    "\n",
    "####FIN\n",
    "\n"
   ]
  },
  {
   "cell_type": "code",
   "execution_count": 123,
   "metadata": {},
   "outputs": [
    {
     "data": {
      "text/plain": [
       "0          862.0\n",
       "1         8844.0\n",
       "2        15602.0\n",
       "3        31357.0\n",
       "4        11862.0\n",
       "          ...   \n",
       "90859        NaN\n",
       "90860        NaN\n",
       "90861        NaN\n",
       "90862        NaN\n",
       "90863        NaN\n",
       "Name: id, Length: 90864, dtype: float64"
      ]
     },
     "execution_count": 123,
     "metadata": {},
     "output_type": "execute_result"
    }
   ],
   "source": [
    "datakey['id']"
   ]
  },
  {
   "cell_type": "code",
   "execution_count": 117,
   "metadata": {},
   "outputs": [
    {
     "name": "stdout",
     "output_type": "stream",
     "text": [
      "<class 'pandas.core.frame.DataFrame'>\n",
      "RangeIndex: 179940 entries, 0 to 179939\n",
      "Data columns (total 68 columns):\n",
      " #   Column                                  Non-Null Count  Dtype  \n",
      "---  ------                                  --------------  -----  \n",
      " 0   id                                      44985 non-null  object \n",
      " 1   original_language                       44975 non-null  object \n",
      " 2   release_date                            44907 non-null  object \n",
      " 3   title                                   44985 non-null  object \n",
      " 4   vote_average                            44985 non-null  float64\n",
      " 5   vote_count                              44985 non-null  float64\n",
      " 6   adult_False                             44985 non-null  float64\n",
      " 7   adult_True                              44985 non-null  float64\n",
      " 8   Drama                                   44985 non-null  float64\n",
      " 9   Comedy                                  44985 non-null  float64\n",
      " 10  Action                                  44985 non-null  float64\n",
      " 11  Documentary                             44985 non-null  float64\n",
      " 12  Horror                                  44985 non-null  float64\n",
      " 13  Crime                                   44985 non-null  float64\n",
      " 14  Thriller                                44985 non-null  float64\n",
      " 15  Adventure                               44985 non-null  float64\n",
      " 16  Romance                                 44985 non-null  float64\n",
      " 17  Animation                               44985 non-null  float64\n",
      " 18  Fantasy                                 44985 non-null  float64\n",
      " 19  Science Fiction                         44985 non-null  float64\n",
      " 20  Mystery                                 44985 non-null  float64\n",
      " 21  Family                                  44985 non-null  float64\n",
      " 22  Music                                   44985 non-null  float64\n",
      " 23  Western                                 44985 non-null  float64\n",
      " 24  TV Movie                                44985 non-null  float64\n",
      " 25  War                                     44985 non-null  float64\n",
      " 26  History                                 44985 non-null  float64\n",
      " 27  Foreign                                 44985 non-null  float64\n",
      " 28  Paramount Pictures                      44985 non-null  float64\n",
      " 29  Metro-Goldwyn-Mayer (MGM)               44985 non-null  float64\n",
      " 30  Twentieth Century Fox Film Corporation  44985 non-null  float64\n",
      " 31  Warner Bros.                            44985 non-null  float64\n",
      " 32  Universal Pictures                      44985 non-null  float64\n",
      " 33  Columbia Pictures                       44985 non-null  float64\n",
      " 34  Columbia Pictures Corporation           44985 non-null  float64\n",
      " 35  RKO Radio Pictures                      44985 non-null  float64\n",
      " 36  United Artists                          44985 non-null  float64\n",
      " 37  Walt Disney Pictures                    44985 non-null  float64\n",
      " 38  New Line Cinema                         44985 non-null  float64\n",
      " 39  Mosfilm                                 44985 non-null  float64\n",
      " 40  Miramax Films                           44985 non-null  float64\n",
      " 41  TriStar Pictures                        44985 non-null  float64\n",
      " 42  Toho Company                            44985 non-null  float64\n",
      " 43  Gaumont                                 44985 non-null  float64\n",
      " 44  Orion Pictures                          44985 non-null  float64\n",
      " 45  BBC Films                               44985 non-null  float64\n",
      " 46  Touchstone Pictures                     44985 non-null  float64\n",
      " 47  France 2 Cinéma                         44985 non-null  float64\n",
      " 48  United States of America                44985 non-null  float64\n",
      " 49  United Kingdom                          44985 non-null  float64\n",
      " 50  France                                  44985 non-null  float64\n",
      " 51  Japan                                   44985 non-null  float64\n",
      " 52  Canada                                  44985 non-null  float64\n",
      " 53  Italy                                   44985 non-null  float64\n",
      " 54  Germany                                 44985 non-null  float64\n",
      " 55  Russia                                  44985 non-null  float64\n",
      " 56  India                                   44985 non-null  float64\n",
      " 57  Spain                                   44985 non-null  float64\n",
      " 58  Australia                               44985 non-null  float64\n",
      " 59  Hong Kong                               44985 non-null  float64\n",
      " 60  South Korea                             44985 non-null  float64\n",
      " 61  Sweden                                  44985 non-null  float64\n",
      " 62  Finland                                 44985 non-null  float64\n",
      " 63  China                                   44985 non-null  float64\n",
      " 64  Belgium                                 44985 non-null  float64\n",
      " 65  Denmark                                 44985 non-null  float64\n",
      " 66  Brazil                                  44985 non-null  float64\n",
      " 67  Poland                                  44985 non-null  float64\n",
      "dtypes: float64(64), object(4)\n",
      "memory usage: 93.4+ MB\n"
     ]
    }
   ],
   "source": [
    "datamovienew2.info()"
   ]
  },
  {
   "cell_type": "code",
   "execution_count": 118,
   "metadata": {},
   "outputs": [
    {
     "data": {
      "text/plain": [
       "0           862\n",
       "1          8844\n",
       "2         15602\n",
       "3         31357\n",
       "4         11862\n",
       "          ...  \n",
       "179935      NaN\n",
       "179936      NaN\n",
       "179937      NaN\n",
       "179938      NaN\n",
       "179939      NaN\n",
       "Name: id, Length: 179940, dtype: object"
      ]
     },
     "execution_count": 118,
     "metadata": {},
     "output_type": "execute_result"
    }
   ],
   "source": [
    "datamovienew2['id']"
   ]
  },
  {
   "cell_type": "code",
   "execution_count": 119,
   "metadata": {},
   "outputs": [
    {
     "data": {
      "text/plain": [
       "0          862.0\n",
       "1         8844.0\n",
       "2        15602.0\n",
       "3        31357.0\n",
       "4        11862.0\n",
       "          ...   \n",
       "90859        NaN\n",
       "90860        NaN\n",
       "90861        NaN\n",
       "90862        NaN\n",
       "90863        NaN\n",
       "Name: id, Length: 90864, dtype: float64"
      ]
     },
     "execution_count": 119,
     "metadata": {},
     "output_type": "execute_result"
    }
   ],
   "source": [
    "datakey['id']"
   ]
  },
  {
   "cell_type": "code",
   "execution_count": null,
   "metadata": {},
   "outputs": [],
   "source": []
  },
  {
   "cell_type": "code",
   "execution_count": null,
   "metadata": {},
   "outputs": [],
   "source": []
  },
  {
   "cell_type": "code",
   "execution_count": null,
   "metadata": {},
   "outputs": [],
   "source": []
  },
  {
   "cell_type": "code",
   "execution_count": null,
   "metadata": {},
   "outputs": [],
   "source": []
  },
  {
   "cell_type": "code",
   "execution_count": null,
   "metadata": {},
   "outputs": [],
   "source": []
  },
  {
   "cell_type": "code",
   "execution_count": 100,
   "metadata": {},
   "outputs": [],
   "source": [
    "keywords=pd.read_csv('keywords.csv', delimiter = ',')\n",
    "keywords=keywords.dropna(subset=['id'])\n",
    "keywords=keywords.drop_duplicates(subset='id', keep=\"first\")\n",
    "\n"
   ]
  },
  {
   "cell_type": "code",
   "execution_count": 101,
   "metadata": {
    "scrolled": true
   },
   "outputs": [
    {
     "name": "stdout",
     "output_type": "stream",
     "text": [
      "<class 'pandas.core.frame.DataFrame'>\n",
      "Int64Index: 45432 entries, 0 to 46418\n",
      "Data columns (total 2 columns):\n",
      " #   Column    Non-Null Count  Dtype \n",
      "---  ------    --------------  ----- \n",
      " 0   id        45432 non-null  int64 \n",
      " 1   keywords  45432 non-null  object\n",
      "dtypes: int64(1), object(1)\n",
      "memory usage: 1.0+ MB\n"
     ]
    }
   ],
   "source": [
    "keywords.info()"
   ]
  },
  {
   "cell_type": "code",
   "execution_count": 102,
   "metadata": {},
   "outputs": [],
   "source": [
    "liste_key=categorie(keywords, 'keywords')\n",
    "\n",
    "keywords=keywords.drop(['genrestest'], axis=1)\n",
    "dfkey= encoding_dic(data=keywords, variable=\"keywords\", liste=liste_key)\n",
    "dfkey=dfkey.drop(['keywords', 'total'], axis=1)"
   ]
  },
  {
   "cell_type": "code",
   "execution_count": 103,
   "metadata": {},
   "outputs": [
    {
     "name": "stdout",
     "output_type": "stream",
     "text": [
      "<class 'pandas.core.frame.DataFrame'>\n",
      "Int64Index: 45432 entries, 0 to 46418\n",
      "Data columns (total 20 columns):\n",
      " #   Column            Non-Null Count  Dtype\n",
      "---  ------            --------------  -----\n",
      " 0   woman director    45432 non-null  int64\n",
      " 1   independent film  45432 non-null  int64\n",
      " 2   based on novel    45432 non-null  int64\n",
      " 3   musical           45432 non-null  int64\n",
      " 4   female nudity     45432 non-null  int64\n",
      " 5   sex               45432 non-null  int64\n",
      " 6   prison            45432 non-null  int64\n",
      " 7   suicide           45432 non-null  int64\n",
      " 8   stand-up comedy   45432 non-null  int64\n",
      " 9   paris             45432 non-null  int64\n",
      " 10  new york          45432 non-null  int64\n",
      " 11  biography         45432 non-null  int64\n",
      " 12  sport             45432 non-null  int64\n",
      " 13  gay               45432 non-null  int64\n",
      " 14  london england    45432 non-null  int64\n",
      " 15  martial arts      45432 non-null  int64\n",
      " 16  holiday           45432 non-null  int64\n",
      " 17  suspense          45432 non-null  int64\n",
      " 18  male nudity       45432 non-null  int64\n",
      " 19  japan             45432 non-null  int64\n",
      "dtypes: int64(20)\n",
      "memory usage: 7.3 MB\n"
     ]
    }
   ],
   "source": [
    "dfkey.info()"
   ]
  },
  {
   "cell_type": "code",
   "execution_count": 104,
   "metadata": {},
   "outputs": [],
   "source": [
    "\n",
    "\n",
    "\n",
    "\n",
    "\n",
    "\n",
    "datakey=keywords.append(dfkey, ignore_index=True)\n",
    "datakey=datakey.drop(['keywords'], axis=1)"
   ]
  },
  {
   "cell_type": "code",
   "execution_count": 105,
   "metadata": {},
   "outputs": [
    {
     "name": "stdout",
     "output_type": "stream",
     "text": [
      "<class 'pandas.core.frame.DataFrame'>\n",
      "RangeIndex: 90864 entries, 0 to 90863\n",
      "Data columns (total 21 columns):\n",
      " #   Column            Non-Null Count  Dtype  \n",
      "---  ------            --------------  -----  \n",
      " 0   id                45432 non-null  float64\n",
      " 1   woman director    45432 non-null  float64\n",
      " 2   independent film  45432 non-null  float64\n",
      " 3   based on novel    45432 non-null  float64\n",
      " 4   musical           45432 non-null  float64\n",
      " 5   female nudity     45432 non-null  float64\n",
      " 6   sex               45432 non-null  float64\n",
      " 7   prison            45432 non-null  float64\n",
      " 8   suicide           45432 non-null  float64\n",
      " 9   stand-up comedy   45432 non-null  float64\n",
      " 10  paris             45432 non-null  float64\n",
      " 11  new york          45432 non-null  float64\n",
      " 12  biography         45432 non-null  float64\n",
      " 13  sport             45432 non-null  float64\n",
      " 14  gay               45432 non-null  float64\n",
      " 15  london england    45432 non-null  float64\n",
      " 16  martial arts      45432 non-null  float64\n",
      " 17  holiday           45432 non-null  float64\n",
      " 18  suspense          45432 non-null  float64\n",
      " 19  male nudity       45432 non-null  float64\n",
      " 20  japan             45432 non-null  float64\n",
      "dtypes: float64(21)\n",
      "memory usage: 14.6 MB\n"
     ]
    }
   ],
   "source": [
    "datakey.info()"
   ]
  },
  {
   "cell_type": "code",
   "execution_count": 111,
   "metadata": {},
   "outputs": [
    {
     "data": {
      "text/plain": [
       "0           862\n",
       "1          8844\n",
       "2         15602\n",
       "3         31357\n",
       "4         11862\n",
       "          ...  \n",
       "179935      NaN\n",
       "179936      NaN\n",
       "179937      NaN\n",
       "179938      NaN\n",
       "179939      NaN\n",
       "Name: id, Length: 179940, dtype: object"
      ]
     },
     "execution_count": 111,
     "metadata": {},
     "output_type": "execute_result"
    }
   ],
   "source": [
    "datamovienew2['id']"
   ]
  },
  {
   "cell_type": "code",
   "execution_count": 106,
   "metadata": {
    "scrolled": true
   },
   "outputs": [
    {
     "data": {
      "text/plain": [
       "0          862.0\n",
       "1         8844.0\n",
       "2        15602.0\n",
       "3        31357.0\n",
       "4        11862.0\n",
       "          ...   \n",
       "90859        NaN\n",
       "90860        NaN\n",
       "90861        NaN\n",
       "90862        NaN\n",
       "90863        NaN\n",
       "Name: id, Length: 90864, dtype: float64"
      ]
     },
     "execution_count": 106,
     "metadata": {},
     "output_type": "execute_result"
    }
   ],
   "source": [
    "datakey['id']"
   ]
  },
  {
   "cell_type": "code",
   "execution_count": 108,
   "metadata": {},
   "outputs": [],
   "source": [
    "datakey['id']=datakey['id'].astype(str)"
   ]
  },
  {
   "cell_type": "code",
   "execution_count": 109,
   "metadata": {},
   "outputs": [
    {
     "data": {
      "text/plain": [
       "0          862.0\n",
       "1         8844.0\n",
       "2        15602.0\n",
       "3        31357.0\n",
       "4        11862.0\n",
       "          ...   \n",
       "90859        nan\n",
       "90860        nan\n",
       "90861        nan\n",
       "90862        nan\n",
       "90863        nan\n",
       "Name: id, Length: 90864, dtype: object"
      ]
     },
     "execution_count": 109,
     "metadata": {},
     "output_type": "execute_result"
    }
   ],
   "source": [
    "datakey['id']"
   ]
  },
  {
   "cell_type": "code",
   "execution_count": 110,
   "metadata": {},
   "outputs": [],
   "source": [
    "#datakey['id'] = datakey['id'].str.replace('.0', '')\n"
   ]
  },
  {
   "cell_type": "code",
   "execution_count": 91,
   "metadata": {},
   "outputs": [],
   "source": []
  },
  {
   "cell_type": "code",
   "execution_count": 99,
   "metadata": {},
   "outputs": [
    {
     "data": {
      "text/plain": [
       "0          862.0\n",
       "1         8844.0\n",
       "2        15602.0\n",
       "3        31357.0\n",
       "4        11862.0\n",
       "          ...   \n",
       "90859        NaN\n",
       "90860        NaN\n",
       "90861        NaN\n",
       "90862        NaN\n",
       "90863        NaN\n",
       "Name: id, Length: 90864, dtype: float64"
      ]
     },
     "execution_count": 99,
     "metadata": {},
     "output_type": "execute_result"
    }
   ],
   "source": [
    "datakey['id']"
   ]
  },
  {
   "cell_type": "code",
   "execution_count": 83,
   "metadata": {
    "scrolled": true
   },
   "outputs": [
    {
     "name": "stdout",
     "output_type": "stream",
     "text": [
      "<class 'pandas.core.frame.DataFrame'>\n",
      "RangeIndex: 90864 entries, 0 to 90863\n",
      "Data columns (total 21 columns):\n",
      " #   Column            Non-Null Count  Dtype  \n",
      "---  ------            --------------  -----  \n",
      " 0   id                90864 non-null  object \n",
      " 1   woman director    45432 non-null  float64\n",
      " 2   independent film  45432 non-null  float64\n",
      " 3   based on novel    45432 non-null  float64\n",
      " 4   musical           45432 non-null  float64\n",
      " 5   female nudity     45432 non-null  float64\n",
      " 6   sex               45432 non-null  float64\n",
      " 7   prison            45432 non-null  float64\n",
      " 8   suicide           45432 non-null  float64\n",
      " 9   stand-up comedy   45432 non-null  float64\n",
      " 10  paris             45432 non-null  float64\n",
      " 11  new york          45432 non-null  float64\n",
      " 12  biography         45432 non-null  float64\n",
      " 13  sport             45432 non-null  float64\n",
      " 14  gay               45432 non-null  float64\n",
      " 15  london england    45432 non-null  float64\n",
      " 16  martial arts      45432 non-null  float64\n",
      " 17  holiday           45432 non-null  float64\n",
      " 18  suspense          45432 non-null  float64\n",
      " 19  male nudity       45432 non-null  float64\n",
      " 20  japan             45432 non-null  float64\n",
      "dtypes: float64(20), object(1)\n",
      "memory usage: 14.6+ MB\n"
     ]
    }
   ],
   "source": [
    "datakey.info() !!!!!!!!!!!!!!!!!!!!!!!!!!"
   ]
  },
  {
   "cell_type": "code",
   "execution_count": 93,
   "metadata": {},
   "outputs": [
    {
     "data": {
      "text/plain": [
       "0          862 \n",
       "1         8844 \n",
       "2         15 2 \n",
       "3        31357 \n",
       "4        11862 \n",
       "          ...  \n",
       "90859       nan\n",
       "90860       nan\n",
       "90861       nan\n",
       "90862       nan\n",
       "90863       nan\n",
       "Name: id, Length: 90864, dtype: object"
      ]
     },
     "execution_count": 93,
     "metadata": {},
     "output_type": "execute_result"
    }
   ],
   "source": [
    "\n",
    "datakey['id']"
   ]
  },
  {
   "cell_type": "code",
   "execution_count": 94,
   "metadata": {},
   "outputs": [],
   "source": [
    "tt=pd.merge(datamovienew2,datakey,on='id')\n"
   ]
  },
  {
   "cell_type": "code",
   "execution_count": 80,
   "metadata": {},
   "outputs": [
    {
     "name": "stdout",
     "output_type": "stream",
     "text": [
      "<class 'pandas.core.frame.DataFrame'>\n",
      "Int64Index: 0 entries\n",
      "Data columns (total 21 columns):\n",
      " #   Column            Non-Null Count  Dtype  \n",
      "---  ------            --------------  -----  \n",
      " 0   id                0 non-null      float64\n",
      " 1   woman director    0 non-null      float64\n",
      " 2   independent film  0 non-null      float64\n",
      " 3   based on novel    0 non-null      float64\n",
      " 4   musical           0 non-null      float64\n",
      " 5   female nudity     0 non-null      float64\n",
      " 6   sex               0 non-null      float64\n",
      " 7   prison            0 non-null      float64\n",
      " 8   suicide           0 non-null      float64\n",
      " 9   stand-up comedy   0 non-null      float64\n",
      " 10  paris             0 non-null      float64\n",
      " 11  new york          0 non-null      float64\n",
      " 12  biography         0 non-null      float64\n",
      " 13  sport             0 non-null      float64\n",
      " 14  gay               0 non-null      float64\n",
      " 15  london england    0 non-null      float64\n",
      " 16  martial arts      0 non-null      float64\n",
      " 17  holiday           0 non-null      float64\n",
      " 18  suspense          0 non-null      float64\n",
      " 19  male nudity       0 non-null      float64\n",
      " 20  japan             0 non-null      float64\n",
      "dtypes: float64(21)\n",
      "memory usage: 0.0 bytes\n"
     ]
    }
   ],
   "source": [
    "datakey[\"id\"]= datakey[\"id\"].astype(str)\n",
    "     \n",
    "datakey=datakey.dropna(subset=['id'])\n",
    "\n",
    "datakey = datakey.apply (pd.to_numeric, errors='coerce')\n",
    "datakey = datakey.dropna()\n",
    "\n",
    "datakey.info()"
   ]
  },
  {
   "cell_type": "code",
   "execution_count": 54,
   "metadata": {},
   "outputs": [
    {
     "data": {
      "text/plain": [
       "woman director                  1316\n",
       "independent film                 700\n",
       "based on novel                   441\n",
       "musical                          386\n",
       "female nudity                    371\n",
       "sex                              307\n",
       "prison                           283\n",
       "suicide                          276\n",
       "stand-up comedy                  274\n",
       "paris                            259\n",
       "new york                         233\n",
       "biography                        231\n",
       "sport                            224\n",
       "gay                              217\n",
       "london england                   213\n",
       "martial arts                     213\n",
       "holiday                          208\n",
       "suspense                         183\n",
       "male nudity                      178\n",
       "japan                            168\n",
       "world war ii                     162\n",
       "rape                             146\n",
       "monster                          144\n",
       "love triangle                    135\n",
       "father son relationship          134\n",
       "spy                              134\n",
       "detective                        127\n",
       "brother brother relationship     127\n",
       "corruption                       125\n",
       "robbery                          124\n",
       "france                           119\n",
       "kidnapping                       113\n",
       "murder                           110\n",
       "prostitute                       105\n",
       "england                          104\n",
       "small town                       103\n",
       "italy                            103\n",
       "witch                            100\n",
       "silent film                       96\n",
       "revenge                           96\n",
       "competition                       91\n",
       "vampire                           90\n",
       "hotel                             89\n",
       "africa                            87\n",
       "brazilian                         82\n",
       "nurse                             77\n",
       "mexico                            77\n",
       "high school                       76\n",
       "sheriff                           76\n",
       "california                        75\n",
       "Name: genrestest, dtype: int64"
      ]
     },
     "execution_count": 54,
     "metadata": {},
     "output_type": "execute_result"
    }
   ],
   "source": []
  },
  {
   "cell_type": "code",
   "execution_count": 47,
   "metadata": {},
   "outputs": [
    {
     "name": "stdout",
     "output_type": "stream",
     "text": [
      "<class 'pandas.core.frame.DataFrame'>\n",
      "RangeIndex: 179940 entries, 0 to 179939\n",
      "Data columns (total 71 columns):\n",
      " #   Column                                  Non-Null Count  Dtype  \n",
      "---  ------                                  --------------  -----  \n",
      " 0   genres                                  44985 non-null  object \n",
      " 1   id                                      44985 non-null  object \n",
      " 2   original_language                       44975 non-null  object \n",
      " 3   production_companies                    44985 non-null  object \n",
      " 4   production_countries                    44985 non-null  object \n",
      " 5   release_date                            44907 non-null  object \n",
      " 6   title                                   44985 non-null  object \n",
      " 7   vote_average                            44985 non-null  float64\n",
      " 8   vote_count                              44985 non-null  float64\n",
      " 9   adult_False                             44985 non-null  float64\n",
      " 10  adult_True                              44985 non-null  float64\n",
      " 11  Drama                                   44985 non-null  float64\n",
      " 12  Comedy                                  44985 non-null  float64\n",
      " 13  Action                                  44985 non-null  float64\n",
      " 14  Documentary                             44985 non-null  float64\n",
      " 15  Horror                                  44985 non-null  float64\n",
      " 16  Crime                                   44985 non-null  float64\n",
      " 17  Thriller                                44985 non-null  float64\n",
      " 18  Adventure                               44985 non-null  float64\n",
      " 19  Romance                                 44985 non-null  float64\n",
      " 20  Animation                               44985 non-null  float64\n",
      " 21  Fantasy                                 44985 non-null  float64\n",
      " 22  Science Fiction                         44985 non-null  float64\n",
      " 23  Mystery                                 44985 non-null  float64\n",
      " 24  Family                                  44985 non-null  float64\n",
      " 25  Music                                   44985 non-null  float64\n",
      " 26  Western                                 44985 non-null  float64\n",
      " 27  TV Movie                                44985 non-null  float64\n",
      " 28  War                                     44985 non-null  float64\n",
      " 29  History                                 44985 non-null  float64\n",
      " 30  Foreign                                 44985 non-null  float64\n",
      " 31  Paramount Pictures                      44985 non-null  float64\n",
      " 32  Metro-Goldwyn-Mayer (MGM)               44985 non-null  float64\n",
      " 33  Twentieth Century Fox Film Corporation  44985 non-null  float64\n",
      " 34  Warner Bros.                            44985 non-null  float64\n",
      " 35  Universal Pictures                      44985 non-null  float64\n",
      " 36  Columbia Pictures                       44985 non-null  float64\n",
      " 37  Columbia Pictures Corporation           44985 non-null  float64\n",
      " 38  RKO Radio Pictures                      44985 non-null  float64\n",
      " 39  United Artists                          44985 non-null  float64\n",
      " 40  Walt Disney Pictures                    44985 non-null  float64\n",
      " 41  New Line Cinema                         44985 non-null  float64\n",
      " 42  Mosfilm                                 44985 non-null  float64\n",
      " 43  Miramax Films                           44985 non-null  float64\n",
      " 44  TriStar Pictures                        44985 non-null  float64\n",
      " 45  Toho Company                            44985 non-null  float64\n",
      " 46  Gaumont                                 44985 non-null  float64\n",
      " 47  Orion Pictures                          44985 non-null  float64\n",
      " 48  BBC Films                               44985 non-null  float64\n",
      " 49  Touchstone Pictures                     44985 non-null  float64\n",
      " 50  France 2 Cinéma                         44985 non-null  float64\n",
      " 51  United States of America                44985 non-null  float64\n",
      " 52  United Kingdom                          44985 non-null  float64\n",
      " 53  France                                  44985 non-null  float64\n",
      " 54  Japan                                   44985 non-null  float64\n",
      " 55  Canada                                  44985 non-null  float64\n",
      " 56  Italy                                   44985 non-null  float64\n",
      " 57  Germany                                 44985 non-null  float64\n",
      " 58  Russia                                  44985 non-null  float64\n",
      " 59  India                                   44985 non-null  float64\n",
      " 60  Spain                                   44985 non-null  float64\n",
      " 61  Australia                               44985 non-null  float64\n",
      " 62  Hong Kong                               44985 non-null  float64\n",
      " 63  South Korea                             44985 non-null  float64\n",
      " 64  Sweden                                  44985 non-null  float64\n",
      " 65  Finland                                 44985 non-null  float64\n",
      " 66  China                                   44985 non-null  float64\n",
      " 67  Belgium                                 44985 non-null  float64\n",
      " 68  Denmark                                 44985 non-null  float64\n",
      " 69  Brazil                                  44985 non-null  float64\n",
      " 70  Poland                                  44985 non-null  float64\n",
      "dtypes: float64(64), object(7)\n",
      "memory usage: 97.5+ MB\n"
     ]
    }
   ],
   "source": [
    "datamovienew2.info()"
   ]
  },
  {
   "cell_type": "code",
   "execution_count": 34,
   "metadata": {},
   "outputs": [],
   "source": []
  },
  {
   "cell_type": "code",
   "execution_count": 37,
   "metadata": {},
   "outputs": [],
   "source": []
  },
  {
   "cell_type": "code",
   "execution_count": 39,
   "metadata": {},
   "outputs": [],
   "source": []
  },
  {
   "cell_type": "code",
   "execution_count": null,
   "metadata": {},
   "outputs": [],
   "source": []
  }
 ],
 "metadata": {
  "kernelspec": {
   "display_name": "Python 3",
   "language": "python",
   "name": "python3"
  },
  "language_info": {
   "codemirror_mode": {
    "name": "ipython",
    "version": 3
   },
   "file_extension": ".py",
   "mimetype": "text/x-python",
   "name": "python",
   "nbconvert_exporter": "python",
   "pygments_lexer": "ipython3",
   "version": "3.6.9"
  }
 },
 "nbformat": 4,
 "nbformat_minor": 4
}
